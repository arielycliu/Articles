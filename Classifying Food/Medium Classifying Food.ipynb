{
 "cells": [
  {
   "cell_type": "markdown",
   "id": "69f001b7",
   "metadata": {},
   "source": [
    "# Loading Data"
   ]
  },
  {
   "cell_type": "code",
   "execution_count": 1,
   "id": "2ff9a798",
   "metadata": {},
   "outputs": [],
   "source": [
    "from collections import defaultdict\n",
    "from shutil import copy, copytree, rmtree"
   ]
  },
  {
   "cell_type": "code",
   "execution_count": 21,
   "id": "88c31aab",
   "metadata": {},
   "outputs": [],
   "source": [
    "import os\n",
    "def setup_training_data(txtfile, source, destination, food_list=['cheesecake', 'baklava', 'ramen']):\n",
    "    # In order we have: txt with file name, image source folder, destination folder, list of foods to copy in\n",
    "    # food list defaults to cheesecake, baklava, and ramen if not indicated\n",
    "    food_types = defaultdict(list)\n",
    "    with open(txtfile, \"r\") as file:\n",
    "        lines = [line.strip() for line in file.readlines()]\n",
    "        for l in lines:\n",
    "            food_type = l.split(\"/\")\n",
    "            if food_type[0] in food_list:\n",
    "                food_types[food_type[0]].append(food_type[1] + \".jpg\")\n",
    "    \n",
    "    for food in food_types.keys():\n",
    "        print(\"  \" + food, end=\"  \")\n",
    "        if not os.path.exists(os.path.join(destination, food)):\n",
    "            os.makedirs(os.path.join(destination, food))\n",
    "        for n in food_types[food]:\n",
    "            copy(os.path.join(source, food, n), os.path.join(destination, food, n))        "
   ]
  },
  {
   "cell_type": "code",
   "execution_count": 22,
   "id": "feebe3c4",
   "metadata": {},
   "outputs": [
    {
     "name": "stdout",
     "output_type": "stream",
     "text": [
      "  baklava    cheesecake    ramen  "
     ]
    }
   ],
   "source": [
    "setup_training_data('train.txt', 'images', 'train')"
   ]
  },
  {
   "cell_type": "code",
   "execution_count": 26,
   "id": "e3b923cf",
   "metadata": {},
   "outputs": [
    {
     "name": "stdout",
     "output_type": "stream",
     "text": [
      "  baklava    cheesecake    ramen  "
     ]
    }
   ],
   "source": [
    "setup_training_data('test.txt', 'images', 'test')"
   ]
  },
  {
   "cell_type": "code",
   "execution_count": 24,
   "id": "f8d24daf",
   "metadata": {},
   "outputs": [],
   "source": [
    "import tensorflow as tf\n",
    "from tensorflow.keras.preprocessing.image import ImageDataGenerator\n",
    "data_gen = ImageDataGenerator(rescale=1./255, validation_split=0.2)"
   ]
  },
  {
   "cell_type": "code",
   "execution_count": 27,
   "id": "0c212524",
   "metadata": {},
   "outputs": [
    {
     "name": "stdout",
     "output_type": "stream",
     "text": [
      "Found 2250 images belonging to 3 classes.\n",
      "Found 750 images belonging to 3 classes.\n"
     ]
    }
   ],
   "source": [
    "image_size = (235, 235)\n",
    "\n",
    "train_gen = data_gen.flow_from_directory('train', target_size=image_size) # class_mode default categorical\n",
    "test_gen = data_gen.flow_from_directory('test', target_size=image_size) # default batch_size is 32"
   ]
  },
  {
   "cell_type": "code",
   "execution_count": 28,
   "id": "013a8706",
   "metadata": {},
   "outputs": [
    {
     "name": "stdout",
     "output_type": "stream",
     "text": [
      "{'baklava': 0, 'cheesecake': 1, 'ramen': 2}\n"
     ]
    }
   ],
   "source": [
    "print(train_gen.class_indices)"
   ]
  },
  {
   "cell_type": "markdown",
   "id": "2fa12193",
   "metadata": {},
   "source": [
    "# Creating Model"
   ]
  },
  {
   "cell_type": "markdown",
   "id": "1326e360",
   "metadata": {},
   "source": [
    "## Using InceptionV3"
   ]
  },
  {
   "cell_type": "code",
   "execution_count": 29,
   "id": "b19e1870",
   "metadata": {},
   "outputs": [],
   "source": [
    "from tensorflow.keras.applications import InceptionV3\n",
    "input_shape = (235, 235, 3) # 235, 235 stands for w and h. The 3 stands for the three channels for RGB\n",
    "inception_model = InceptionV3(weights=\"imagenet\", input_shape=input_shape, include_top=False)\n",
    "inception_model.trainable = False # freeze weights"
   ]
  },
  {
   "cell_type": "markdown",
   "id": "aa27696a",
   "metadata": {},
   "source": [
    "## Creating the head"
   ]
  },
  {
   "cell_type": "code",
   "execution_count": 34,
   "id": "3b9e0d0d",
   "metadata": {},
   "outputs": [
    {
     "name": "stdout",
     "output_type": "stream",
     "text": [
      "Model: \"sequential_4\"\n",
      "_________________________________________________________________\n",
      "Layer (type)                 Output Shape              Param #   \n",
      "=================================================================\n",
      "inception_v3 (Functional)    (None, 6, 6, 2048)        21802784  \n",
      "_________________________________________________________________\n",
      "global_average_pooling2d_2 ( (None, 2048)              0         \n",
      "_________________________________________________________________\n",
      "dense_4 (Dense)              (None, 64)                131136    \n",
      "_________________________________________________________________\n",
      "dropout_2 (Dropout)          (None, 64)                0         \n",
      "_________________________________________________________________\n",
      "dense_5 (Dense)              (None, 3)                 195       \n",
      "=================================================================\n",
      "Total params: 21,934,115\n",
      "Trainable params: 131,331\n",
      "Non-trainable params: 21,802,784\n",
      "_________________________________________________________________\n"
     ]
    }
   ],
   "source": [
    "from tensorflow import keras\n",
    "from tensorflow.keras import layers\n",
    "from tensorflow.keras.models import Sequential\n",
    "from tensorflow.keras.layers import Dense, Activation, Dropout, Conv2D, MaxPool2D, GlobalAveragePooling2D\n",
    "\n",
    "model = Sequential()\n",
    "model.add(inception_model)\n",
    "#model.add(Conv2D(32, 2, activation='relu')) # filters=32, kernel_size=(2,2)\n",
    "#model.add(MaxPool2D(pool_size=(2,2), strides=2))\n",
    "model.add(GlobalAveragePooling2D())\n",
    "model.add(Dense(64, activation=\"relu\")) # 64 units\n",
    "model.add(Dropout(0.3))\n",
    "model.add(Dense(3, activation='softmax'))\n",
    "\n",
    "model.summary()"
   ]
  },
  {
   "cell_type": "code",
   "execution_count": 35,
   "id": "c562a882",
   "metadata": {},
   "outputs": [],
   "source": [
    "from tensorflow.keras.optimizers import Adam\n",
    "model.compile(optimizer='adam', loss='categorical_crossentropy', metrics=['accuracy'])"
   ]
  },
  {
   "cell_type": "code",
   "execution_count": 36,
   "id": "9f7e8e43",
   "metadata": {},
   "outputs": [],
   "source": [
    "from tensorflow.keras.callbacks import EarlyStopping, ModelCheckpoint\n",
    "earlystopping = EarlyStopping(min_delta=0.001, patience=5, restore_best_weights=True)\n",
    "checkpoint = ModelCheckpoint(filepath='food_model.hdf5', verbose=1, save_best_only=True, save_weights_only=True)"
   ]
  },
  {
   "cell_type": "code",
   "execution_count": 38,
   "id": "bb282106",
   "metadata": {},
   "outputs": [
    {
     "name": "stdout",
     "output_type": "stream",
     "text": [
      "Epoch 1/30\n",
      "71/71 [==============================] - 46s 644ms/step - loss: 0.2449 - accuracy: 0.9044 - val_loss: 0.1565 - val_accuracy: 0.9467\n",
      "\n",
      "Epoch 00001: val_loss improved from inf to 0.15651, saving model to food_model.hdf5\n",
      "Epoch 2/30\n",
      "71/71 [==============================] - 45s 642ms/step - loss: 0.1795 - accuracy: 0.9324 - val_loss: 0.2746 - val_accuracy: 0.8973\n",
      "\n",
      "Epoch 00002: val_loss did not improve from 0.15651\n",
      "Epoch 3/30\n",
      "71/71 [==============================] - 47s 657ms/step - loss: 0.1656 - accuracy: 0.9382 - val_loss: 0.1539 - val_accuracy: 0.9413\n",
      "\n",
      "Epoch 00003: val_loss improved from 0.15651 to 0.15391, saving model to food_model.hdf5\n",
      "Epoch 4/30\n",
      "71/71 [==============================] - 45s 630ms/step - loss: 0.1339 - accuracy: 0.9471 - val_loss: 0.1371 - val_accuracy: 0.9507\n",
      "\n",
      "Epoch 00004: val_loss improved from 0.15391 to 0.13709, saving model to food_model.hdf5\n",
      "Epoch 5/30\n",
      "71/71 [==============================] - 45s 634ms/step - loss: 0.1091 - accuracy: 0.9627 - val_loss: 0.1396 - val_accuracy: 0.9493\n",
      "\n",
      "Epoch 00005: val_loss did not improve from 0.13709\n",
      "Epoch 6/30\n",
      "71/71 [==============================] - 44s 624ms/step - loss: 0.0889 - accuracy: 0.9676 - val_loss: 0.1296 - val_accuracy: 0.9573\n",
      "\n",
      "Epoch 00006: val_loss improved from 0.13709 to 0.12963, saving model to food_model.hdf5\n",
      "Epoch 7/30\n",
      "71/71 [==============================] - 46s 655ms/step - loss: 0.0937 - accuracy: 0.9622 - val_loss: 0.1275 - val_accuracy: 0.9573\n",
      "\n",
      "Epoch 00007: val_loss improved from 0.12963 to 0.12753, saving model to food_model.hdf5\n",
      "Epoch 8/30\n",
      "71/71 [==============================] - 45s 638ms/step - loss: 0.0780 - accuracy: 0.9716 - val_loss: 0.1346 - val_accuracy: 0.9520\n",
      "\n",
      "Epoch 00008: val_loss did not improve from 0.12753\n",
      "Epoch 9/30\n",
      "71/71 [==============================] - 46s 642ms/step - loss: 0.0623 - accuracy: 0.9782 - val_loss: 0.1391 - val_accuracy: 0.9560\n",
      "\n",
      "Epoch 00009: val_loss did not improve from 0.12753\n",
      "Epoch 10/30\n",
      "71/71 [==============================] - 47s 659ms/step - loss: 0.0525 - accuracy: 0.9800 - val_loss: 0.1306 - val_accuracy: 0.9587\n",
      "\n",
      "Epoch 00010: val_loss did not improve from 0.12753\n",
      "Epoch 11/30\n",
      "71/71 [==============================] - 46s 648ms/step - loss: 0.0482 - accuracy: 0.9827 - val_loss: 0.1436 - val_accuracy: 0.9507\n",
      "\n",
      "Epoch 00011: val_loss did not improve from 0.12753\n",
      "Epoch 12/30\n",
      "71/71 [==============================] - 47s 658ms/step - loss: 0.0579 - accuracy: 0.9751 - val_loss: 0.1591 - val_accuracy: 0.9520\n",
      "\n",
      "Epoch 00012: val_loss did not improve from 0.12753\n"
     ]
    }
   ],
   "source": [
    "history = model.fit(train_gen, validation_data=test_gen, epochs=30, verbose=1, callbacks=[checkpoint, earlystopping])"
   ]
  },
  {
   "cell_type": "markdown",
   "id": "808df737",
   "metadata": {},
   "source": [
    "## Post Analysis"
   ]
  },
  {
   "cell_type": "markdown",
   "id": "72b37289",
   "metadata": {},
   "source": [
    "### Graph Accuracy and Loss"
   ]
  },
  {
   "cell_type": "code",
   "execution_count": 39,
   "id": "15be55b1",
   "metadata": {},
   "outputs": [
    {
     "data": {
      "text/plain": [
       "<AxesSubplot:>"
      ]
     },
     "execution_count": 39,
     "metadata": {},
     "output_type": "execute_result"
    },
    {
     "data": {
      "image/png": "[encoded data removed]",
      "text/plain": [
       "<Figure size 432x288 with 1 Axes>"
      ]
     },
     "metadata": {
      "needs_background": "light"
     },
     "output_type": "display_data"
    },
    {
     "data": {
      "image/png": "[encoded data removed]",
      "text/plain": [
       "<Figure size 432x288 with 1 Axes>"
      ]
     },
     "metadata": {
      "needs_background": "light"
     },
     "output_type": "display_data"
    }
   ],
   "source": [
    "import pandas as pd\n",
    "\n",
    "history_df = pd.DataFrame(history.history)\n",
    "history_df.loc[:,['loss', 'val_loss']].plot()\n",
    "history_df.loc[:,['accuracy', 'val_accuracy']].plot()"
   ]
  },
  {
   "cell_type": "code",
   "execution_count": null,
   "id": "3bf193b2",
   "metadata": {},
   "outputs": [],
   "source": []
  }
 ],
 "metadata": {
  "kernelspec": {
   "display_name": "Python 3",
   "language": "python",
   "name": "python3"
  },
  "language_info": {
   "codemirror_mode": {
    "name": "ipython",
    "version": 3
   },
   "file_extension": ".py",
   "mimetype": "text/x-python",
   "name": "python",
   "nbconvert_exporter": "python",
   "pygments_lexer": "ipython3",
   "version": "3.8.8"
  }
 },
 "nbformat": 4,
 "nbformat_minor": 5
}
